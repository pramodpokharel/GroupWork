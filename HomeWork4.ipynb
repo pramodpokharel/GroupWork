{
 "cells": [
  {
   "cell_type": "code",
   "execution_count": 62,
   "id": "01477b7e",
   "metadata": {},
   "outputs": [],
   "source": [
    "import numpy as np\n",
    "from scipy.stats import t\n",
    "from scipy.stats import norm"
   ]
  },
  {
   "cell_type": "markdown",
   "id": "a597e874",
   "metadata": {},
   "source": [
    "# 1"
   ]
  },
  {
   "cell_type": "raw",
   "id": "0d91f647",
   "metadata": {},
   "source": [
    "Suppose we want to test whether the mean weight of apples in a grocery store is 150 grams. We randomly sample 20 apples        from the store and measure their weights, getting the following data:\n"
   ]
  },
  {
   "cell_type": "code",
   "execution_count": 68,
   "id": "e4c6d318",
   "metadata": {},
   "outputs": [
    {
     "data": {
      "text/plain": [
       "20"
      ]
     },
     "execution_count": 68,
     "metadata": {},
     "output_type": "execute_result"
    }
   ],
   "source": [
    "Apple_Weights = [145, 155, 160, 146, 142, 152, 150, 147, 148, 149, 148, 152, 153, 155, 154, 148, 151, 147, 153, 146]\n",
    "\n",
    "# hypothised mean weight of apple\n",
    "as_mean = 150\n",
    "\n",
    "#number of samples\n",
    "n = len(Apple_Weights)\n",
    "n"
   ]
  },
  {
   "cell_type": "markdown",
   "id": "7f45ca39",
   "metadata": {},
   "source": [
    "1a. What test should we use and why?\n",
    "\n",
    "This is single sample.\n",
    "We should use one-sample t-test because  one-sample t-test is used to test whether a population mean is equal to some hypothesized value."
   ]
  },
  {
   "cell_type": "raw",
   "id": "f2cc31a3",
   "metadata": {},
   "source": [
    "1b. State the null and alternative hypotheses.\n",
    "\n",
    "H0:mean weight of apples in store is equal to 150 grams\n",
    "\n",
    "H1:mean weight of apples in store is not equal to 150 grams\n"
   ]
  },
  {
   "cell_type": "raw",
   "id": "5174901e",
   "metadata": {},
   "source": [
    "1c. Choose a significance level (α) (the probability of rejecting the null hypothesis when it is actually true).\n",
    "We choose a significance level (α) of 0.05, which means we will accept 5 % chance or error\n"
   ]
  },
  {
   "cell_type": "raw",
   "id": "83a2f4ae",
   "metadata": {},
   "source": [
    "1d. Determine the degrees of freedom (df) of the sample. Df = sample size -1 \n",
    "df = n-1\n",
    "df = 19\n"
   ]
  },
  {
   "cell_type": "raw",
   "id": "dddbb4db",
   "metadata": {},
   "source": [
    "1e. Determine the critical value of t based on the significance level and degrees of freedom. \n",
    "    For a two-tailed test with \n",
    "    α = 0.05 and df = 19\n",
    "    the critical values are -2.093 and 2.093."
   ]
  },
  {
   "cell_type": "raw",
   "id": "90e69e98",
   "metadata": {},
   "source": [
    "1f. Compare and interpret the results of the test to the critical value "
   ]
  },
  {
   "cell_type": "code",
   "execution_count": 69,
   "id": "858da8ca",
   "metadata": {},
   "outputs": [
    {
     "name": "stdout",
     "output_type": "stream",
     "text": [
      "Sample Mean : 150.05\n",
      "Sample Standard deviation :  4.261\n",
      "t-value: 0.052\n",
      "p-value: 0.959\n"
     ]
    }
   ],
   "source": [
    "apple_weights = np.array(Apple_Weights)\n",
    "\n",
    "# sample mean and sample standard deviation\n",
    "sample_mean = np.mean(apple_weights)\n",
    "sample_std = np.std(apple_weights, ddof=1)\n",
    "\n",
    "# assumed mean weight of apples\n",
    "as_mean = 150\n",
    "\n",
    "#  t-value\n",
    "t_value = (sample_mean - as_mean) / (sample_std / np.sqrt(n))\n",
    "\n",
    "#  p-value\n",
    "p_value = 2 * t.sf(np.abs(t_value), n - 1)\n",
    "\n",
    "print(f\"Sample Mean : {sample_mean}\")\n",
    "print(f\"Sample Standard deviation : {sample_std: .3f}\")\n",
    "print(f\"t-value: {t_value:.3f}\")\n",
    "print(f\"p-value: {p_value:.3f}\")\n"
   ]
  },
  {
   "cell_type": "raw",
   "id": "1b1a076b",
   "metadata": {},
   "source": [
    "Since this p-value (0.959) is more  than our significance level α = 0.05, we fail to reject null hypothesis.\n",
    "Thus, the average weight of apples in that grocery store is equal to 150 grams."
   ]
  },
  {
   "cell_type": "markdown",
   "id": "28d34116",
   "metadata": {},
   "source": [
    "# 2"
   ]
  },
  {
   "cell_type": "markdown",
   "id": "f09eb30e",
   "metadata": {},
   "source": [
    "Suppose we want to test whether the mean height of all men in a population is 180 cm assuming that the population standard deviation = 2. We randomly sample 50 men from the population and measure their heights, getting the following data:"
   ]
  },
  {
   "cell_type": "code",
   "execution_count": 70,
   "id": "bf7f39ea",
   "metadata": {},
   "outputs": [
    {
     "data": {
      "text/plain": [
       "50"
      ]
     },
     "execution_count": 70,
     "metadata": {},
     "output_type": "execute_result"
    }
   ],
   "source": [
    "Men_height = [177, 180, 182, 179, 178, 181, 176, 183, 179, 180, 178, 181, 177, 178, 180, 179, 182, 180, 183, 181, 179, 177, 180, 181, 178, 180, 182, 179, 177, 182, 178, 181, 183, 179, 180, 181, 183, 178, 177, 181, 179, 182, 180, 181, 178, 180, 179, 181, 183, 179]\n",
    "\n",
    "men_height = np.array(Men_height)\n",
    "\n",
    "#assumed mean height of all men in population\n",
    "as_mean1 = 180\n",
    "\n",
    "#\n",
    "assumed_std = 2\n",
    "\n",
    "n1 = len(men_height)\n",
    "n1"
   ]
  },
  {
   "cell_type": "markdown",
   "id": "7bbc8d61",
   "metadata": {},
   "source": [
    "2a. What test should we use and why?\n",
    "This is single sample of men height in a population, hence \n",
    "We should use one-sample t-test because  one-sample t-test is used to test whether a population mean is equal to some hypothesized value."
   ]
  },
  {
   "cell_type": "markdown",
   "id": "249ef04e",
   "metadata": {},
   "source": [
    "2b. State the null and alternative hypotheses.\n",
    "\n",
    "H0 : mean height of all men equals to 180 cm\n",
    "\n",
    "H1 : mean height of all men is not equal to 180cm"
   ]
  },
  {
   "cell_type": "markdown",
   "id": "6d300d85",
   "metadata": {},
   "source": [
    "2c. Choose a significance level (α) (the probability of rejecting the null hypothesis when it is actually true).\n",
    "\n",
    "We choose a significance level (α) of 0.05, which means we will accept 5 % chance or error\n"
   ]
  },
  {
   "cell_type": "markdown",
   "id": "ee4e193d",
   "metadata": {},
   "source": [
    "2d. Determine the degrees of freedom (df) of the sample. Df = sample size -1 \n",
    "df = n1-1\n",
    "df = 49"
   ]
  },
  {
   "cell_type": "markdown",
   "id": "2f5d41e4",
   "metadata": {},
   "source": [
    "2e. Determine the critical value of t based on the significance level and degrees of freedom. \n",
    "For a two-tailed test with\n",
    "α =  0.05 and df = 49,\n",
    "the critical values of t is 2.009 and - 2.009"
   ]
  },
  {
   "cell_type": "raw",
   "id": "15d0ac53",
   "metadata": {},
   "source": [
    "# 2f. Compare and interpret the results of the test to the critical value"
   ]
  },
  {
   "cell_type": "code",
   "execution_count": 72,
   "id": "ef0e2e52",
   "metadata": {},
   "outputs": [
    {
     "name": "stdout",
     "output_type": "stream",
     "text": [
      "Sample Mean : 179.84\n",
      "Sample Standard deviation :  1.867\n",
      "t-value: -0.606\n",
      "p-value: 0.547\n"
     ]
    }
   ],
   "source": [
    "men_height = np.array(Men_height)\n",
    " \n",
    "as_mean1 = 180\n",
    "\n",
    "assumed_std = 2\n",
    "\n",
    "n1 = len(men_height)\n",
    "\n",
    "\n",
    "# sample mean and sample standard deviation\n",
    "sample_mean1 = np.mean(men_height)\n",
    "sample_std1 = np.std(men_height, ddof=1)\n",
    "\n",
    "#  t-value\n",
    "#t = (x̄ - μ) / (std / sqrt(n))\n",
    "\n",
    "t_value1 = (sample_mean1 - as_mean1) / (sample_std1 / np.sqrt(n1))\n",
    "\n",
    "#  p-value\n",
    "p_value1 = 2 * t.sf(np.abs(t_value1), n1 - 1)\n",
    "\n",
    "print(f\"Sample Mean : {sample_mean1}\")\n",
    "print(f\"Sample Standard deviation : {sample_std1: .3f}\")\n",
    "print(f\"t-value: {t_value1:.3f}\")\n",
    "print(f\"p-value: {p_value1:.3f}\")\n"
   ]
  },
  {
   "cell_type": "raw",
   "id": "bc812ae3",
   "metadata": {},
   "source": [
    "The calculated  p-value is 0.3765.\n",
    "Since, the calcualted p-value is more than level of significance 0.05, we fail to reject null hypotheis. Thus, we do not have sufficient evidence to conclude that the population mean height is different from 180 cm."
   ]
  },
  {
   "cell_type": "markdown",
   "id": "203e066a",
   "metadata": {},
   "source": [
    "# 3"
   ]
  },
  {
   "cell_type": "raw",
   "id": "312f3b01",
   "metadata": {},
   "source": [
    "3. Suppose we want to test whether the mean weight of a population of cats is different from 4 kg. We randomly sample 50 cats from the population and measure their weights, getting the following data:"
   ]
  },
  {
   "cell_type": "code",
   "execution_count": 27,
   "id": "f5d69de5",
   "metadata": {},
   "outputs": [
    {
     "name": "stdout",
     "output_type": "stream",
     "text": [
      "Sample cat mean weight  = 4.170\n",
      "Sample cat std = 0.230\n"
     ]
    }
   ],
   "source": [
    "Cats_weights = [3.9, 4.2, 4.5, 4.1, 4.3, 3.8, 4.6, 4.2, 3.7, 4.3, 3.9, 4.0, 4.1, 4.5, 4.2, 3.8, 3.9, 4.3, 4.1, 4.0, 4.4, 4.2, 4.1, 4.6, 4.4, 4.2, 4.1, 4.3, 4.0, 4.4, 4.3, 3.8, 4.1, 4.5, 4.2, 4.3, 4.0, 4.1, 4.2, 3.9, 4.3, 3.7, 4.1, 4.5, 4.2, 4.0, 4.2, 4.4, 4.1, 4.5]\n",
    "\n",
    "cat_weights =np.array(Cats_weights)\n",
    "n2 = len(Cats_weights)\n",
    "\n",
    "#population mean weight of cats assumed\n",
    "pop_mean = 4\n",
    "\n",
    "#sample cat mean weight in kgs\n",
    "sample_mean2 = np.mean(cat_weights)\n",
    "print(f\"Sample cat mean weight  = {sample_mean2:.3f}\")\n",
    "\n",
    "#sample cat std\n",
    "sample_std2 = np.std(cat_weights, ddof = 1)\n",
    "print(f\"Sample cat std = {sample_std2:.3f}\")\n"
   ]
  },
  {
   "cell_type": "raw",
   "id": "9f216bfd",
   "metadata": {},
   "source": [
    "3a. Perform one sample two tailed Z-Test to determine whether the mean weight of the sampled cats is significantly different from 4 kg.\n",
    "3b. State the null and alternative hypotheses.\n",
    "3c. Choose a significance level (α) (the probability of rejecting the null hypothesis when it is actually true).\n",
    "3d. Calculate the z-score using the formula:\n",
    "\n",
    "                    Z = (x - mean)/(st.dev/(sqrt*n))"
   ]
  },
  {
   "cell_type": "raw",
   "id": "d9bef3f5",
   "metadata": {},
   "source": [
    "Hypotheis\n",
    "\n",
    "H0: mean weight of cats is equal to 4 kg\n",
    "\n",
    "H1: mean weight of cats is not equal to 4 kg\n",
    "\n",
    "We choose a significance level (α) of 0.05, which means we will accept 5 % chance or error\n"
   ]
  },
  {
   "cell_type": "code",
   "execution_count": 60,
   "id": "dbcf3b05",
   "metadata": {},
   "outputs": [
    {
     "name": "stdout",
     "output_type": "stream",
     "text": [
      "Z score = 5.234\n"
     ]
    }
   ],
   "source": [
    "# calculating z score\n",
    "# two-tailed Z-test with a significance level (α) of 0.05 (5%).\n",
    "\n",
    "Z_score = (sample_mean2 - pop_mean)/(sample_std2/(np.sqrt(n2)))\n",
    "\n",
    "print(f\"Z score = {Z_score:.3f}\")"
   ]
  },
  {
   "cell_type": "raw",
   "id": "e8c30c56",
   "metadata": {},
   "source": [
    "3e. Assuming that the standard deviation is equal to the sample mean\n",
    "    Look up the critical z-value at the chosen significance level (α) using a z-table."
   ]
  },
  {
   "cell_type": "raw",
   "id": "7549f2ea",
   "metadata": {},
   "source": [
    "Using a z-table, we find the critical z-values at the (α) of 0.05 (5%) is - 1.96 and 1.96\n"
   ]
  },
  {
   "cell_type": "raw",
   "id": "fa3ba0fa",
   "metadata": {},
   "source": [
    "3f. Compare the calculated z-score to the critical z-values. If the calculated z-score falls outside the range between the        critical z-values, we reject the null hypothesis in favor of the alternative hypothesis."
   ]
  },
  {
   "cell_type": "raw",
   "id": "9e6a4931",
   "metadata": {},
   "source": [
    "Since the calculated z-score of 5.23 does not lies between these critical z-values (ie - 1.96 and 1.96). We can  reject the null hypothesis. Therefore,  have sufficient evidence to conclude that the mean weight of the population of cats is significantly different from 4 kg at a significance level of 0.05."
   ]
  },
  {
   "cell_type": "code",
   "execution_count": null,
   "id": "ed30f80c",
   "metadata": {},
   "outputs": [],
   "source": []
  }
 ],
 "metadata": {
  "kernelspec": {
   "display_name": "Python 3 (ipykernel)",
   "language": "python",
   "name": "python3"
  },
  "language_info": {
   "codemirror_mode": {
    "name": "ipython",
    "version": 3
   },
   "file_extension": ".py",
   "mimetype": "text/x-python",
   "name": "python",
   "nbconvert_exporter": "python",
   "pygments_lexer": "ipython3",
   "version": "3.9.13"
  }
 },
 "nbformat": 4,
 "nbformat_minor": 5
}
