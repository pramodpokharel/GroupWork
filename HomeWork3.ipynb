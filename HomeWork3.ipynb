{
 "cells": [
  {
   "cell_type": "raw",
   "id": "817ece34",
   "metadata": {},
   "source": [
    "1.Suppose we have rooms we have a dataset that shows the number of bedrooms and the selling price for 20 houses in a particular neighborhood\n",
    "Bedrooms = [1,1,1,2,2,2,2,3,3,3,3,3,3,3,4,4,4,5,5,6]\n",
    "Prices = [120,133,139,185,148,160,192,205,244,213,236,280,275,273,312,311,304,415,396,488]\n"
   ]
  },
  {
   "cell_type": "raw",
   "id": "120fb975",
   "metadata": {},
   "source": [
    "2.Using the Bedrooms data points:\n",
    "Extract a random sample of size 10\n",
    "Compute the mean and standard deviation of the sample\n",
    "Compute the the mean of the population\n",
    "Computer the confidence interval of 95% using the sample \n",
    "Check if the population mean lies between the upper and lower bounds of the interval\n",
    "\n"
   ]
  },
  {
   "cell_type": "code",
   "execution_count": 153,
   "id": "ceebd566",
   "metadata": {},
   "outputs": [
    {
     "name": "stdout",
     "output_type": "stream",
     "text": [
      "Sample bedrooms: [4 3 6 6 6 2 5 3 4 3]\n",
      "Mean of bedroom sample = 4.2\n",
      "Standard deviation of sample bedroom = 1.4\n",
      "Upper confidence level at 95 % is  5.041165857604789\n",
      "Lower confidence level at 95 % is  3.3588341423952115\n",
      "Population mean =  3.0\n",
      "Population mean doesnot lies within confidence interval\n"
     ]
    }
   ],
   "source": [
    "import numpy as np\n",
    "import random\n",
    "\n",
    "b = np.array([1,1,1,2,2,2,2,3,3,3,3,3,3,3,4,4,4,5,5,6]) # bedrooms\n",
    "p = np.array([120,133,139,185,148,160,192,205,244,213,236,280,275,273,312,311,304,415,396,488]) ## Prices\n",
    "\n",
    "sample_size = 10 # sample size\n",
    "sample_b =np.random.choice(b,sample_size)\n",
    "print('Sample bedrooms:',sample_b)\n",
    "\n",
    "# mean and standard deviation of the sample\n",
    "sample_mean =np.mean(sample_b)\n",
    "sample_std = np.std(sample_b)\n",
    "print(f\"Mean of bedroom sample = {sample_mean}\\nStandard deviation of sample bedroom = {sample_std}\")\n",
    "\n",
    "# confidence interval of 95% using the sample\n",
    "z = 1.9 \n",
    "# standard error SE = z*(sample_std/sqrt(size))\n",
    "SE = z*(sample_std/np.sqrt(10)) \n",
    "\n",
    "#CI = sample_mean +- SE\n",
    "# upper level confidence\n",
    "ULC = sample_mean + SE\n",
    "print (\"Upper confidence level at 95 % is \", ULC)\n",
    "\n",
    "# lower level confidence\n",
    "LLC = sample_mean - SE\n",
    "print (\"Lower confidence level at 95 % is \", LLC)\n",
    "\n",
    "# population mean\n",
    "pop_mean = np.mean(b)\n",
    "print(\"Population mean = \", pop_mean)\n",
    "\n",
    "if LLC < pop_mean <  ULC:\n",
    "    print(\"Population mean lies within confidence interval\")\n",
    "else:\n",
    "    print(\"Population mean doesnot lies within confidence interval\") "
   ]
  },
  {
   "cell_type": "raw",
   "id": "ca2bee9c",
   "metadata": {},
   "source": [
    "3.Using both of the Bedrooms and the Prices:\n",
    "    Compute the covariance and the correlation between the two variables\n",
    "    Build a regression model and estimate the regression parameters (slope and intercept).\n",
    "    Predict the house price for a house with 7 rooms\n",
    "    Estimate the upper bound and the lower bounds of the prediction interval of a house with 7 rooms\n",
    "    Alpha = 0.1\n",
    "    N = 20\n",
    "    Df = N-2\n"
   ]
  },
  {
   "cell_type": "code",
   "execution_count": 157,
   "id": "ae2d1bc1",
   "metadata": {},
   "outputs": [
    {
     "name": "stdout",
     "output_type": "stream",
     "text": [
      "Covariance between the bedrooms and prices is\n",
      "[[1.89473684e+00 1.33894737e+02]\n",
      " [1.33894737e+02 1.00161553e+04]] \n",
      "\n",
      "Correlation between the bedrooms and prices is\n",
      "[[1.    0.972]\n",
      " [0.972 1.   ]] \n"
     ]
    }
   ],
   "source": [
    "#covariance and the correlation between the bedrooms and prices\n",
    "cov_b_p = np.cov(b,p)\n",
    "print(f\"Covariance between the bedrooms and prices is\\n{cov_b_p} \")\n",
    "\n",
    "cor_b_p = np.corrcoef(b,p)\n",
    "print(f\"\\nCorrelation between the bedrooms and prices is\\n{cor_b_p.round(3)} \")"
   ]
  },
  {
   "cell_type": "code",
   "execution_count": 159,
   "id": "28f9d7f0",
   "metadata": {},
   "outputs": [
    {
     "data": {
      "image/png": "[encoded data removed]",
      "text/plain": [
       "<Figure size 640x480 with 2 Axes>"
      ]
     },
     "metadata": {},
     "output_type": "display_data"
    }
   ],
   "source": [
    "import seaborn as sns\n",
    "import matplotlib.pyplot as plt\n",
    "sns.heatmap(cor_b_p.round(3), annot=True, cmap='coolwarm')\n",
    "plt.title(\"Correlation between variables: Bedrooms Vs Prices\")\n",
    "plt.show()"
   ]
  },
  {
   "cell_type": "code",
   "execution_count": 160,
   "id": "3c518b0b",
   "metadata": {},
   "outputs": [
    {
     "name": "stdout",
     "output_type": "stream",
     "text": [
      "Slope = 70.6666666666667\n",
      "Intercept =  39.449999999999875\n",
      "y_pred = (array([110.11666667, 110.11666667, 110.11666667, 180.78333333,\n",
      "       180.78333333, 180.78333333, 180.78333333, 251.45      ,\n",
      "       251.45      , 251.45      , 251.45      , 251.45      ,\n",
      "       251.45      , 251.45      , 322.11666667, 322.11666667,\n",
      "       322.11666667, 392.78333333, 392.78333333, 463.45      ]), 3)\n",
      "\n",
      "slope1, intercept1, r1, p1, std_err1 70.66666666666667 39.44999999999999 0.9719379327871166 9.25739530686155e-13 4.0313107110941875\n"
     ]
    }
   ],
   "source": [
    "#Build a regression model and estimate the regression parameters (slope and intercept).\n",
    "\n",
    "# from scipy import stats\n",
    "from sklearn.linear_model import LinearRegression\n",
    "\n",
    "x = b.reshape(-1,1) # reshapig bedrooms to columns\n",
    "\n",
    "# assigning price as y\n",
    "y = p\n",
    "\n",
    "model = LinearRegression().fit(x, y)\n",
    "\n",
    "slope = model.coef_[0]\n",
    "print(\"Slope =\", slope)\n",
    "\n",
    "intercept = model.intercept_\n",
    "print(\"Intercept = \", intercept)\n",
    "\n",
    "y_pred = model.predict(x),round(3)\n",
    "print(\"y_pred =\", y_pred)\n",
    "\n",
    "# using scipy method\n",
    "from scipy import stats\n",
    "slope1, intercept1, r1, p1, std_err1 = stats.linregress(b, p)\n",
    "\n",
    "print(\"\\nslope1, intercept1, r1, p1, std_err1\", slope1, intercept1, r1, p1, std_err1)"
   ]
  },
  {
   "cell_type": "code",
   "execution_count": 139,
   "id": "98aa7cf2",
   "metadata": {},
   "outputs": [
    {
     "name": "stdout",
     "output_type": "stream",
     "text": [
      "The house price for a house with 7 rooms is [534.12]\n"
     ]
    }
   ],
   "source": [
    "#Predict the house price for a house with 7 rooms\n",
    "# here number of rooms  = 7\n",
    "# using model.predict()\n",
    "\n",
    "\n",
    "bedrooms =7\n",
    "ne_price = model.predict([[bedrooms]])\n",
    "\n",
    "    \n",
    "print(f\"The house price for a house with 7 rooms is {np.round(ne_price,2)}\")\n"
   ]
  },
  {
   "cell_type": "raw",
   "id": "f7ba1bb1",
   "metadata": {},
   "source": [
    "Estimate the upper bound and the lower bounds of the prediction interval of a house with 7 rooms\n",
    "    Alpha = 0.1\n",
    "    N = 20\n",
    "    Df = N-2"
   ]
  },
  {
   "cell_type": "code",
   "execution_count": 119,
   "id": "896b3647",
   "metadata": {},
   "outputs": [
    {
     "name": "stdout",
     "output_type": "stream",
     "text": [
      "Upper bound of prediction interval for 7 rooms is: 573.46\n",
      "Lower bound of prediction interval for 7 rooms is: 494.78\n"
     ]
    }
   ],
   "source": [
    "# calculate the prediction interval\n",
    "from scipy.stats import t\n",
    "\n",
    "bedrooms = 7\n",
    "x_mean = np.mean(x)\n",
    "n = len(x) # lenght of x\n",
    "# prediction interval\n",
    "y_hat = model.predict([[x]])[0]\n",
    "# predicted price of 7 rooms house \n",
    "price = 534.12\n",
    "\n",
    "# residual\n",
    "s_residual = np.sqrt(np.sum((y - y_hat)**2) / (n-2))\n",
    "\n",
    "# standard error\n",
    "s_yx = s_residual * np.sqrt(1 + 1/n + ((bedrooms - x_mean)**2) / np.sum((x - x_mean)**2))\n",
    "\n",
    "# interval\n",
    "alpha = 0.2\n",
    "df = n-2\n",
    "t_value = t.ppf(1-alpha/2, n-2)\n",
    "interval = t_value * s_yx\n",
    "\n",
    "# upper lower bounds\n",
    "upper_bound = price + interval\n",
    "lower_bound = price - interval\n",
    "\n",
    "# print the prediction interval\n",
    "print(\"Upper bound of prediction interval for 7 rooms is:\", upper_bound.round(2))\n",
    "print(\"Lower bound of prediction interval for 7 rooms is:\", lower_bound.round(2))\n"
   ]
  },
  {
   "cell_type": "raw",
   "id": "2feeba15",
   "metadata": {},
   "source": [
    "Using as sample of houses that have only 3 bedrooms \n",
    "Try to find the lower price that can be payed for a house with 3 rooms using Tolerance interval\n",
    "Try  to find the highest price that can be payed for a house with 3 rooms using Tolerance interval\n"
   ]
  },
  {
   "cell_type": "code",
   "execution_count": 164,
   "id": "296aba12",
   "metadata": {},
   "outputs": [
    {
     "name": "stdout",
     "output_type": "stream",
     "text": [
      "Mean_3: 246.57142857142858\n",
      "Standard Deviation_3: 30.544269199841416\n",
      "The lower price that can be payed for 3 rooms is  217.7098070425035\n",
      "The highest price that can be payed for 3 rooms is  275.4330501003537\n"
     ]
    }
   ],
   "source": [
    "# filter houses with 3 bedrooms\n",
    "Bedrooms = [1,1,1,2,2,2,2,3,3,3,3,3,3,3,4,4,4,5,5,6]\n",
    "Prices = [120,133,139,185,148,160,192,205,244,213,236,280,275,273,312,311,304,415,396,488]\n",
    "three_bedrooms = []\n",
    "for i in range(len(Bedrooms)):\n",
    "    if Bedrooms[i] == 3:\n",
    "        three_bedrooms.append(Prices[i])\n",
    "\n",
    "# calculate mean and standard deviation of prices with 3 bedrooms\n",
    "mean3 = np.mean(three_bedrooms)\n",
    "std_dev3 = np.std(three_bedrooms, ddof=1) \n",
    "\n",
    "print(\"Mean_3:\", mean3)\n",
    "print(\"Standard Deviation_3:\", std_dev3)\n",
    "\n",
    "alpha = 0.05\n",
    "n = len(three_bedrooms)\n",
    "df = n-1\n",
    "k = 2.5 # two one sided tolerence interval\n",
    "\n",
    "\n",
    "lower_bound_price = mean3 - k *(std_dev3/np.sqrt(n))\n",
    "upper_bound_price = mean3 + k *(std_dev3/np.sqrt(n))\n",
    "\n",
    "print(\"The lower price that can be payed for 3 rooms is \", lower_bound_price)\n",
    "print(\"The highest price that can be payed for 3 rooms is \", upper_bound_price)"
   ]
  },
  {
   "cell_type": "code",
   "execution_count": null,
   "id": "2fc8687b",
   "metadata": {},
   "outputs": [],
   "source": []
  }
 ],
 "metadata": {
  "kernelspec": {
   "display_name": "Python 3 (ipykernel)",
   "language": "python",
   "name": "python3"
  },
  "language_info": {
   "codemirror_mode": {
    "name": "ipython",
    "version": 3
   },
   "file_extension": ".py",
   "mimetype": "text/x-python",
   "name": "python",
   "nbconvert_exporter": "python",
   "pygments_lexer": "ipython3",
   "version": "3.9.13"
  }
 },
 "nbformat": 4,
 "nbformat_minor": 5
}
